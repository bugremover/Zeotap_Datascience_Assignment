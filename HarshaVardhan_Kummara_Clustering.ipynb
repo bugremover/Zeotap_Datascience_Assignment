{
  "nbformat": 4,
  "nbformat_minor": 0,
  "metadata": {
    "colab": {
      "provenance": []
    },
    "kernelspec": {
      "name": "python3",
      "display_name": "Python 3"
    },
    "language_info": {
      "name": "python"
    }
  },
  "cells": [
    {
      "cell_type": "code",
      "execution_count": 8,
      "metadata": {
        "id": "_ERKp2UtraeZ"
      },
      "outputs": [],
      "source": [
        "from os import P_PIDFD\n",
        "import pandas as pd\n",
        "from sklearn.preprocessing import StandardScaler\n",
        "from sklearn.cluster import KMeans\n",
        "from sklearn.metrics import davies_bouldin_score\n",
        "import matplotlib.pyplot as plt\n",
        "import seaborn as sns\n",
        "\n",
        "def perform_clustering(transactions_path, customers_path, products_path, output_path, n_clusters=5):\n",
        "\n",
        "    transactions = pd.read_csv( transactions_path)\n",
        "    customers = pd.read_csv( customers_path )\n",
        "    products = pd.read_csv(products_path )\n",
        "\n",
        "\n",
        "    data = transactions.merge(customers, on='CustomerID').merge(products, on='ProductID')\n",
        "\n",
        "\n",
        "    customer_data = data.groupby('CustomerID').agg({\n",
        "        'TotalValue': 'sum',\n",
        "        'Quantity': 'sum',\n",
        "        'Price_y': 'mean'\n",
        "    }).reset_index()\n",
        "\n",
        "\n",
        "    scaler = StandardScaler()\n",
        "    normalized_data = scaler.fit_transform(customer_data[['TotalValue', 'Quantity', 'Price_y']])\n",
        "\n",
        "\n",
        "    kmeans = KMeans(n_clusters=n_clusters, random_state=42)\n",
        "    clusters = kmeans.fit_predict(normalized_data)\n",
        "\n",
        "\n",
        "    customer_data['Cluster'] = clusters\n",
        "\n",
        "\n",
        "    db_index = davies_bouldin_score(normalized_data, clusters)\n",
        "    print(f\"Davies-Bouldin Index: {db_index}\")\n",
        "\n",
        "\n",
        "    customer_data.to_csv(output_path, index=False)\n",
        "    print(f\"Clustering results saved to {output_path}\")\n",
        "\n",
        "\n",
        "    plt.figure(figsize=(10, 6))\n",
        "    sns.scatterplot(\n",
        "        x=normalized_data[:, 0], y=normalized_data[:, 1],\n",
        "        hue=clusters, palette='viridis', s=100\n",
        "    )\n",
        "    plt.title('Customer Clusters')\n",
        "    plt.xlabel('Normalized TotalValue')\n",
        "    plt.ylabel('Normalized Quantity')\n",
        "    plt.legend(title='Cluster')\n",
        "    plt.grid()\n",
        "    plt.show()\n",
        "\n",
        "    perform_clustering(\n",
        "    transactions_path='Transactions.csv',\n",
        "    customers_path='Customers.csv',\n",
        "    products_path='Products.csv',\n",
        "    output_path='Clustering_Results.csv',\n",
        "    n_clusters=5\n",
        ")"
      ]
    }
  ]
}