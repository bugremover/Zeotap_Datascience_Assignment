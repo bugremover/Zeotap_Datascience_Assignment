{
  "nbformat": 4,
  "nbformat_minor": 0,
  "metadata": {
    "colab": {
      "provenance": []
    },
    "kernelspec": {
      "name": "python3",
      "display_name": "Python 3"
    },
    "language_info": {
      "name": "python"
    }
  },
  "cells": [
    {
      "cell_type": "code",
      "execution_count": 9,
      "metadata": {
        "colab": {
          "base_uri": "https://localhost:8080/"
        },
        "id": "E1EOYHu7ne4A",
        "outputId": "45460edc-95df-4726-c104-9ed66009a9ec"
      },
      "outputs": [
        {
          "output_type": "stream",
          "name": "stdout",
          "text": [
            "Lookalike recommendations saved to Lookalike.csv\n"
          ]
        }
      ],
      "source": [
        "import pandas as pd\n",
        "from sklearn.metrics.pairwise import cosine_similarity\n",
        "from sklearn.preprocessing import StandardScaler\n",
        "\n",
        "def build_lookalike_model(transactions_path, customers_path, products_path, output_path):\n",
        "\n",
        "    # Load Datasets\n",
        "      customers = pd.read_csv('Customers.csv')\n",
        "      products = pd.read_csv('Products.csv')\n",
        "      transactions = pd.read_csv('Transactions.csv')\n",
        "\n",
        "    # Merge Datasets\n",
        "      data = transactions.merge(customers, on='CustomerID').merge(products, on='ProductID')\n",
        "\n",
        "    # Aggregate Data for Customers\n",
        "      customer_data = data.groupby('CustomerID').agg({\n",
        "        'TotalValue': 'sum',\n",
        "        'Quantity': 'sum',\n",
        "        'Price_y': 'mean'  # Use Price_y from Products.csv\n",
        "    }).reset_index()\n",
        "\n",
        "    # Normalize Data\n",
        "      scaler = StandardScaler()\n",
        "      normalized_data = scaler.fit_transform(customer_data[['TotalValue', 'Quantity', 'Price_y']])\n",
        "\n",
        "    # Calculate Similarity Matrix\n",
        "      similarity_matrix = cosine_similarity(normalized_data)\n",
        "\n",
        "    # Generate Lookalike Recommendations\n",
        "      top_lookalikes = {}\n",
        "      for i, customer_id in enumerate(customer_data['CustomerID'][:20]):\n",
        "        similar_customers = sorted(\n",
        "            list(enumerate(similarity_matrix[i])),\n",
        "            key=lambda x: x[1],\n",
        "            reverse=True\n",
        "        )[1:4]\n",
        "        top_lookalikes[customer_id] = [\n",
        "            (customer_data['CustomerID'][j], round(score, 2)) for j, score in similar_customers\n",
        "        ]\n",
        "\n",
        "    # Save Recommendations\n",
        "      lookalike_df = pd.DataFrame({\n",
        "        'CustomerID': list(top_lookalikes.keys()),\n",
        "        'Lookalikes': list(top_lookalikes.values())\n",
        "    })\n",
        "      lookalike_df.to_csv(output_path, index=False)\n",
        "      print(f\"Lookalike recommendations saved to {output_path}\")\n",
        "\n",
        "# Example Usage\n",
        "build_lookalike_model(\n",
        "    transactions_path='Transactions.csv',\n",
        "    customers_path='Customers.csv',\n",
        "    products_path='Products.csv',\n",
        "    output_path='Lookalike.csv'\n",
        ")\n"
      ]
    }
  ]
}