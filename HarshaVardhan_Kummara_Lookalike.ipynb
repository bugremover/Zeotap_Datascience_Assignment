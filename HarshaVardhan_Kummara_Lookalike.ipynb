{
  "nbformat": 4,
  "nbformat_minor": 0,
  "metadata": {
    "colab": {
      "provenance": []
    },
    "kernelspec": {
      "name": "python3",
      "display_name": "Python 3"
    },
    "language_info": {
      "name": "python"
    }
  },
  "cells": [
    {
      "cell_type": "code",
      "execution_count": 10,
      "metadata": {
        "id": "E1EOYHu7ne4A"
      },
      "outputs": [],
      "source": [
        "import pandas as pd\n",
        "from sklearn.metrics.pairwise import cosine_similarity\n",
        "from sklearn.preprocessing import StandardScaler\n",
        "\n",
        "def build_lookalike_model(transactions_path, customers_path, products_path, output_path):\n",
        "\n",
        "\n",
        "      customers = pd.read_csv('Customers.csv')\n",
        "      products = pd.read_csv('Products.csv')\n",
        "      transactions = pd.read_csv('Transactions.csv')\n",
        "\n",
        "\n",
        "      data = transactions.merge(customers, on='CustomerID').merge(products, on='ProductID')\n",
        "\n",
        "\n",
        "      customer_data = data.groupby('CustomerID').agg({\n",
        "        'TotalValue': 'sum',\n",
        "        'Quantity': 'sum',\n",
        "        'Price_y': 'mean'\n",
        "    }).reset_index()\n",
        "\n",
        "\n",
        "      scaler = StandardScaler()\n",
        "      normalized_data = scaler.fit_transform(customer_data[['TotalValue', 'Quantity', 'Price_y']])\n",
        "\n",
        "\n",
        "      similarity_matrix = cosine_similarity(normalized_data)\n",
        "\n",
        "\n",
        "      top_lookalikes = {}\n",
        "      for i, customer_id in enumerate(customer_data['CustomerID'][:20]):\n",
        "        similar_customers = sorted(\n",
        "            list(enumerate(similarity_matrix[i])),\n",
        "            key=lambda x: x[1],\n",
        "            reverse=True\n",
        "        )[1:4]\n",
        "        top_lookalikes[customer_id] = [\n",
        "            (customer_data['CustomerID'][j], round(score, 2)) for j, score in similar_customers\n",
        "        ]\n",
        "\n",
        "      lookalike_df = pd.DataFrame({\n",
        "        'CustomerID': list(top_lookalikes.keys()),\n",
        "        'Lookalikes': list(top_lookalikes.values())\n",
        "    })\n",
        "      lookalike_df.to_csv(output_path, index=False)\n",
        "      print(f\"Lookalike recommendations saved to {output_path}\")\n",
        "\n",
        "\n",
        ""
      ]
    },
    {
      "cell_type": "code",
      "source": [],
      "metadata": {
        "id": "e_TmzUnJr9LK"
      },
      "execution_count": null,
      "outputs": []
    },
    {
      "cell_type": "code",
      "source": [],
      "metadata": {
        "id": "OVTSwoHLr9U6"
      },
      "execution_count": null,
      "outputs": []
    },
    {
      "cell_type": "code",
      "source": [],
      "metadata": {
        "id": "ivGOKRspr9cf"
      },
      "execution_count": null,
      "outputs": []
    },
    {
      "cell_type": "code",
      "source": [],
      "metadata": {
        "id": "TTO47M5Yr9jY"
      },
      "execution_count": null,
      "outputs": []
    },
    {
      "cell_type": "code",
      "source": [],
      "metadata": {
        "id": "Xgl8DNkbr9pw"
      },
      "execution_count": null,
      "outputs": []
    },
    {
      "cell_type": "code",
      "source": [],
      "metadata": {
        "id": "uSX5B-d6r9vI"
      },
      "execution_count": null,
      "outputs": []
    }
  ]
}